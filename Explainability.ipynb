{
  "nbformat": 4,
  "nbformat_minor": 0,
  "metadata": {
    "colab": {
      "provenance": [],
      "toc_visible": true
    },
    "kernelspec": {
      "name": "python3",
      "display_name": "Python 3"
    },
    "language_info": {
      "name": "python"
    }
  },
  "cells": [
    {
      "cell_type": "code",
      "execution_count": null,
      "metadata": {
        "colab": {
          "base_uri": "https://localhost:8080/"
        },
        "id": "Ove2HR3usEfJ",
        "outputId": "039ad09c-6992-4e0b-d255-5b5c1ab7efc3"
      },
      "outputs": [
        {
          "output_type": "stream",
          "name": "stdout",
          "text": [
            "Downloading data from https://storage.googleapis.com/tensorflow/tf-keras-datasets/mnist.npz\n",
            "11490434/11490434 [==============================] - 0s 0us/step\n",
            "Epoch 1/5\n",
            "469/469 [==============================] - 5s 7ms/step - loss: 0.3343 - accuracy: 0.9081\n",
            "Epoch 2/5\n",
            "469/469 [==============================] - 3s 7ms/step - loss: 0.1607 - accuracy: 0.9535\n",
            "Epoch 3/5\n",
            "469/469 [==============================] - 3s 6ms/step - loss: 0.1144 - accuracy: 0.9669\n",
            "Epoch 4/5\n",
            "469/469 [==============================] - 3s 5ms/step - loss: 0.0887 - accuracy: 0.9746\n",
            "Epoch 5/5\n",
            "469/469 [==============================] - 2s 4ms/step - loss: 0.0708 - accuracy: 0.9794\n",
            "313/313 [==============================] - 1s 2ms/step - loss: 0.0897 - accuracy: 0.9727\n",
            "Test accuracy: 0.9726999998092651\n"
          ]
        }
      ],
      "source": [
        "# Import necessary libraries\n",
        "import tensorflow as tf\n",
        "from tensorflow.keras import layers, models\n",
        "from tensorflow.keras.datasets import mnist\n",
        "from tensorflow.keras.utils import to_categorical\n",
        "\n",
        "# Load and preprocess the MNIST dataset\n",
        "(train_images, train_labels), (test_images, test_labels) = mnist.load_data()\n",
        "\n",
        "# Normalize the images to 0 to 1 range, and reshape for the DNN\n",
        "train_images = train_images.reshape((60000, 28 * 28)).astype('float32') / 255\n",
        "test_images = test_images.reshape((10000, 28 * 28)).astype('float32') / 255\n",
        "\n",
        "# Convert labels to one-hot encoding\n",
        "train_labels = to_categorical(train_labels)\n",
        "test_labels = to_categorical(test_labels)\n",
        "\n",
        "# Define the model architecture\n",
        "model = models.Sequential()\n",
        "model.add(layers.Dense(128, activation='relu', input_shape=(28 * 28,)))\n",
        "model.add(layers.Dense(10, activation='softmax')) # 10 for the number of digits (0-9)\n",
        "\n",
        "# Compile the model\n",
        "model.compile(optimizer='rmsprop',\n",
        "              loss='categorical_crossentropy',\n",
        "              metrics=['accuracy'])\n",
        "\n",
        "# Train the model\n",
        "model.fit(train_images, train_labels, epochs=5, batch_size=128)\n",
        "\n",
        "# Evaluate the model on test data\n",
        "test_loss, test_acc = model.evaluate(test_images, test_labels)\n",
        "print('Test accuracy:', test_acc)\n"
      ]
    },
    {
      "cell_type": "code",
      "source": [
        "# Assuming 'model' is your trained model\n",
        "\n",
        "for layer in model.layers:\n",
        "    weights, biases = layer.get_weights()\n",
        "    print(f\"{layer.name} - Weights shape: {weights.shape}, Biases shape: {biases.shape}\")\n"
      ],
      "metadata": {
        "colab": {
          "base_uri": "https://localhost:8080/"
        },
        "id": "oFJhgw8asdrr",
        "outputId": "7b76196c-07c4-4191-aef5-3f18e9417347"
      },
      "execution_count": null,
      "outputs": [
        {
          "output_type": "stream",
          "name": "stdout",
          "text": [
            "dense - Weights shape: (784, 128), Biases shape: (128,)\n",
            "dense_1 - Weights shape: (128, 10), Biases shape: (10,)\n"
          ]
        }
      ]
    },
    {
      "cell_type": "code",
      "source": [
        "weights"
      ],
      "metadata": {
        "colab": {
          "base_uri": "https://localhost:8080/"
        },
        "id": "kW1XownRs3ra",
        "outputId": "72407e63-06d6-4898-b0b9-70122a0c8bd0"
      },
      "execution_count": null,
      "outputs": [
        {
          "output_type": "execute_result",
          "data": {
            "text/plain": [
              "array([[ 0.14572567,  0.12363081, -0.15132768, ..., -0.39609814,\n",
              "        -0.20513928, -0.19496532],\n",
              "       [-0.3393134 ,  0.2622233 ,  0.32371494, ..., -0.25564805,\n",
              "        -0.14713994,  0.372319  ],\n",
              "       [-0.13843298, -0.18625355, -0.02638144, ...,  0.3360295 ,\n",
              "        -0.38343248,  0.10476702],\n",
              "       ...,\n",
              "       [-0.30435297, -0.4721012 ,  0.12703098, ...,  0.22260554,\n",
              "        -0.37616366,  0.20218542],\n",
              "       [-0.29174873, -0.09960532,  0.20915413, ...,  0.02313945,\n",
              "         0.21009406,  0.00294801],\n",
              "       [ 0.04775036,  0.40527856, -0.15364483, ...,  0.3378805 ,\n",
              "        -0.43422186,  0.18613413]], dtype=float32)"
            ]
          },
          "metadata": {},
          "execution_count": 3
        }
      ]
    },
    {
      "cell_type": "markdown",
      "source": [
        "# New Section"
      ],
      "metadata": {
        "id": "EkS34UfNQYzn"
      }
    },
    {
      "cell_type": "code",
      "source": [],
      "metadata": {
        "id": "U1KCM5kds7CA"
      },
      "execution_count": null,
      "outputs": []
    }
  ]
}